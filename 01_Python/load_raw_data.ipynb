{
 "cells": [
  {
   "cell_type": "code",
   "execution_count": null,
   "id": "001228ca-8968-40ba-8bb3-40b13e1fcd04",
   "metadata": {},
   "outputs": [],
   "source": [
    "pip install psycopg2"
   ]
  },
  {
   "cell_type": "code",
   "execution_count": null,
   "id": "6cb0d9b8-22d9-43c2-9ae0-fb51ba67cfc5",
   "metadata": {},
   "outputs": [],
   "source": [
    "import os\n",
    "import pandas as pd\n",
    "import psycopg2\n",
    "\n",
    "# Set folder path and DB info\n",
    "folder_path = r\"C:\\Users\\HP\\Desktop\\olist_data\"\n",
    "db_name = \"sales_db\"\n",
    "user = \"postgres\"  # replace if yours is different\n",
    "password = \"admin123\"  # 👈 replace this with your actual password\n",
    "host = \"localhost\"\n",
    "port = \"5432\"\n",
    "\n",
    "# Connect to PostgreSQL\n",
    "conn = psycopg2.connect(\n",
    "    dbname=db_name, user=user, password=password, host=host, port=port\n",
    ")\n",
    "cur = conn.cursor()\n",
    "\n",
    "# Mapping pandas dtypes to PostgreSQL types\n",
    "def map_dtype(dtype):\n",
    "    if pd.api.types.is_integer_dtype(dtype):\n",
    "        return \"INTEGER\"\n",
    "    elif pd.api.types.is_float_dtype(dtype):\n",
    "        return \"FLOAT\"\n",
    "    elif pd.api.types.is_bool_dtype(dtype):\n",
    "        return \"BOOLEAN\"\n",
    "    elif pd.api.types.is_datetime64_any_dtype(dtype):\n",
    "        return \"TIMESTAMP\"\n",
    "    else:\n",
    "        return \"TEXT\"\n",
    "\n",
    "# Loop through all CSV files\n",
    "for filename in os.listdir(folder_path):\n",
    "    if filename.endswith(\".csv\"):\n",
    "        file_path = os.path.join(folder_path, filename)\n",
    "        table_name = os.path.splitext(filename)[0].lower()\n",
    "\n",
    "        # Read CSV\n",
    "        df = pd.read_csv(file_path)\n",
    "\n",
    "        # Clean column names\n",
    "        df.columns = [col.strip().lower().replace(\" \", \"_\").replace(\"-\", \"_\") for col in df.columns]\n",
    "\n",
    "        # Create SQL table\n",
    "        columns = [\n",
    "            f'\"{col}\" {map_dtype(df[col])}' for col in df.columns\n",
    "        ]\n",
    "        create_table_sql = f'CREATE TABLE IF NOT EXISTS \"{table_name}\" (\\n  {\", \".join(columns)}\\n);'\n",
    "        cur.execute(create_table_sql)\n",
    "        conn.commit()\n",
    "\n",
    "        # Insert data\n",
    "        for _, row in df.iterrows():\n",
    "            values = [None if pd.isna(val) else val for val in row]\n",
    "            placeholders = \", \".join([\"%s\"] * len(values))\n",
    "            insert_sql = f'INSERT INTO \"{table_name}\" VALUES ({placeholders});'\n",
    "            cur.execute(insert_sql, values)\n",
    "\n",
    "        conn.commit()\n",
    "        print(f\"✅ Loaded: {filename} into table '{table_name}'\")\n",
    "\n",
    "# Close connection\n",
    "cur.close()\n",
    "conn.close()\n",
    "print(\"🎉 All files loaded successfully into sales_db!\")\n",
    "\n"
   ]
  },
  {
   "cell_type": "code",
   "execution_count": null,
   "id": "a34aed8e-6b7c-4476-8c5f-f476decc820d",
   "metadata": {},
   "outputs": [],
   "source": []
  },
  {
   "cell_type": "code",
   "execution_count": null,
   "id": "55dd5134-17e6-41e9-863a-03282792011a",
   "metadata": {},
   "outputs": [],
   "source": []
  }
 ],
 "metadata": {
  "kernelspec": {
   "display_name": "Python 3 (ipykernel)",
   "language": "python",
   "name": "python3"
  },
  "language_info": {
   "codemirror_mode": {
    "name": "ipython",
    "version": 3
   },
   "file_extension": ".py",
   "mimetype": "text/x-python",
   "name": "python",
   "nbconvert_exporter": "python",
   "pygments_lexer": "ipython3",
   "version": "3.12.7"
  }
 },
 "nbformat": 4,
 "nbformat_minor": 5
}
